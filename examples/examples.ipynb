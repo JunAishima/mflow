{
 "cells": [
  {
   "cell_type": "markdown",
   "metadata": {},
   "source": [
    "# Sending Messages"
   ]
  },
  {
   "cell_type": "code",
   "execution_count": 1,
   "metadata": {
    "collapsed": false
   },
   "outputs": [],
   "source": [
    "import mflow\n",
    "import json\n",
    "stream = mflow.connect('tcp://*:9999', conn_type=mflow.BIND, mode=mflow.PUSH)"
   ]
  },
  {
   "cell_type": "code",
   "execution_count": 14,
   "metadata": {
    "collapsed": false
   },
   "outputs": [],
   "source": [
    "stream.send(json.dumps({\"htype\": \"mytype\"}).encode('utf-8'), send_more=True)  # Main header\n",
    "stream.send(json.dumps({\"YOU\": \"suck\"}).encode('utf-8'))  # Main header"
   ]
  },
  {
   "cell_type": "code",
   "execution_count": 6,
   "metadata": {
    "collapsed": true
   },
   "outputs": [],
   "source": [
    "stream.disconnect()"
   ]
  },
  {
   "cell_type": "raw",
   "metadata": {},
   "source": []
  },
  {
   "cell_type": "markdown",
   "metadata": {},
   "source": [
    "# Merging of Two Streams\n",
    "Note: this is not synchroning streams"
   ]
  },
  {
   "cell_type": "code",
   "execution_count": 1,
   "metadata": {
    "collapsed": true
   },
   "outputs": [],
   "source": [
    "import mflow"
   ]
  },
  {
   "cell_type": "code",
   "execution_count": 2,
   "metadata": {
    "collapsed": false
   },
   "outputs": [],
   "source": [
    "stream_one = mflow.connect('tcp://sf-lc:7777')\n",
    "stream_two = mflow.connect('tcp://sf-lc:7779')"
   ]
  },
  {
   "cell_type": "code",
   "execution_count": 3,
   "metadata": {
    "collapsed": true
   },
   "outputs": [],
   "source": [
    "def dump(receiver):\n",
    "    header = receiver.next()\n",
    "    while receiver.has_more():\n",
    "        message = receiver.next()\n",
    "        print(message)\n",
    "    return header"
   ]
  },
  {
   "cell_type": "code",
   "execution_count": 4,
   "metadata": {
    "collapsed": false
   },
   "outputs": [],
   "source": [
    "import mflow.tools\n",
    "stream = mflow.tools.Merge(stream_one, stream_two)"
   ]
  },
  {
   "cell_type": "code",
   "execution_count": 11,
   "metadata": {
    "collapsed": false
   },
   "outputs": [
    {
     "name": "stdout",
     "output_type": "stream",
     "text": [
      "0\n",
      "b'{\"channels\":[{\"encoding\":\"little\",\"name\":\"SIMI-FAKEDATA:TEST_0\",\"shape\":[1],\"type\":\"float64\"},{\"encoding\":\"little\",\"name\":\"SIMI-FAKEDATA:TEST_1\",\"shape\":[1],\"type\":\"float64\"},{\"encoding\":\"little\",\"name\":\"SIMI-FAKEDATA:TEST_2\",\"shape\":[1],\"type\":\"float64\"},{\"encoding\":\"little\",\"name\":\"SIMI-FAKEDATA:TEST_3\",\"shape\":[1],\"type\":\"float64\"},{\"encoding\":\"little\",\"name\":\"SIMI-FAKEDATA:TEST_4\",\"shape\":[1],\"type\":\"float64\"},{\"encoding\":\"little\",\"name\":\"SIMI-FAKEDATA:TEST_5\",\"shape\":[1],\"type\":\"float64\"},{\"encoding\":\"little\",\"name\":\"SIMI-FAKEDATA:TEST_6\",\"shape\":[1],\"type\":\"float64\"},{\"encoding\":\"little\",\"name\":\"SIMI-FAKEDATA:TEST_7\",\"shape\":[1],\"type\":\"float64\"},{\"encoding\":\"little\",\"name\":\"SIMI-FAKEDATA:TEST_8\",\"shape\":[1],\"type\":\"float64\"},{\"encoding\":\"little\",\"name\":\"SIMI-FAKEDATA:TEST_9\",\"shape\":[1],\"type\":\"float64\"}],\"htype\":\"bsr_d-1.1\"}\\n'\n",
      "b'\\x00\\x00\\x00\\x00\\xc0?\\xd8@'\n",
      "b'\\xf5\\xf9\\xbbW\\x00\\x00\\x00\\x00\\xa7\\xe7U\\x16\\x00\\x00\\x00\\x00'\n",
      "b'\\x00\\x00\\x00\\x00\\xc0?\\xd8@'\n",
      "b'\\xf5\\xf9\\xbbW\\x00\\x00\\x00\\x00T\\xebU\\x16\\x00\\x00\\x00\\x00'\n",
      "b'\\x00\\x00\\x00\\x00\\xc0?\\xd8@'\n",
      "b'\\xf5\\xf9\\xbbW\\x00\\x00\\x00\\x00\\x00\\xeeU\\x16\\x00\\x00\\x00\\x00'\n",
      "b'\\x00\\x00\\x00\\x00\\xc0?\\xd8@'\n",
      "b'\\xf5\\xf9\\xbbW\\x00\\x00\\x00\\x00\\x88\\xf0U\\x16\\x00\\x00\\x00\\x00'\n",
      "b'\\x00\\x00\\x00\\x00\\xc0?\\xd8@'\n",
      "b'\\xf5\\xf9\\xbbW\\x00\\x00\\x00\\x00\\xa6\\xf2U\\x16\\x00\\x00\\x00\\x00'\n",
      "b'\\x00\\x00\\x00\\x00\\xc0?\\xd8@'\n",
      "b'\\xf5\\xf9\\xbbW\\x00\\x00\\x00\\x00\\x11\\xf5U\\x16\\x00\\x00\\x00\\x00'\n",
      "b'\\x00\\x00\\x00\\x00\\xc0?\\xd8@'\n",
      "b'\\xf5\\xf9\\xbbW\\x00\\x00\\x00\\x00b\\xf7U\\x16\\x00\\x00\\x00\\x00'\n",
      "b'\\x00\\x00\\x00\\x00\\xc0?\\xd8@'\n",
      "b'\\xf5\\xf9\\xbbW\\x00\\x00\\x00\\x00\\xd9\\xf9U\\x16\\x00\\x00\\x00\\x00'\n",
      "b'\\x00\\x00\\x00\\x00\\xc0?\\xd8@'\n",
      "b'\\xf5\\xf9\\xbbW\\x00\\x00\\x00\\x00\\x16\\xfcU\\x16\\x00\\x00\\x00\\x00'\n",
      "b'\\x00\\x00\\x00\\x00\\xc0?\\xd8@'\n",
      "b'\\xf5\\xf9\\xbbW\\x00\\x00\\x00\\x00\\xcf\\xfeU\\x16\\x00\\x00\\x00\\x00'\n",
      "b'{\"global_timestamp\":{\"ns\":840785013,\"sec\":1471937013},\"hash\":\"9d5bc4b55b79c49d66b3147b3ca7cf30\",\"htype\":\"bsr_m-1.1\",\"pulse_id\":248305}\\n'\n"
     ]
    }
   ],
   "source": [
    "m = stream.receive(handler=dump, block=False)\n",
    "print(m.data)"
   ]
  }
 ],
 "metadata": {
  "kernelspec": {
   "display_name": "Python 3",
   "language": "python",
   "name": "python3"
  },
  "language_info": {
   "codemirror_mode": {
    "name": "ipython",
    "version": 3.0
   },
   "file_extension": ".py",
   "mimetype": "text/x-python",
   "name": "python",
   "nbconvert_exporter": "python",
   "pygments_lexer": "ipython3",
   "version": "3.5.2"
  }
 },
 "nbformat": 4,
 "nbformat_minor": 0
}